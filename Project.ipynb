{
 "cells": [
  {
   "attachments": {},
   "cell_type": "markdown",
   "metadata": {},
   "source": [
    "# Project By Raunaq Singh Jabbal\n",
    "\n",
    "Project made considering time constraints, is easy to read and understand, with less LOC's and model has fast inference."
   ]
  },
  {
   "attachments": {},
   "cell_type": "markdown",
   "metadata": {},
   "source": [
    "# 0. Imports"
   ]
  },
  {
   "cell_type": "code",
   "execution_count": null,
   "metadata": {},
   "outputs": [],
   "source": [
    "import bs4 as BeautifulSoup\n",
    "import selenium\n",
    "import time\n",
    "from sentence_transformers import SentenceTransformer, util\n",
    "import torch\n",
    "import numpy as np\n",
    "import pandas as pd\n",
    "import unidecode\n",
    "from word2number import w2n\n",
    "import contractions\n",
    "import regex as re\n"
   ]
  },
  {
   "attachments": {},
   "cell_type": "markdown",
   "metadata": {},
   "source": [
    "# 1. Web Scraping and PreProcessing"
   ]
  },
  {
   "cell_type": "code",
   "execution_count": null,
   "metadata": {},
   "outputs": [],
   "source": [
    "# Preprocessing Function\n",
    "def preprocess(text):\n",
    "    text = unidecode.unidecode(text)    # Remove accents\n",
    "    text = contractions.fix(text)       # Expand contractions\n",
    "    text = text.lower()                 # Convert to lowercase\n",
    "    # re.sub(r'\\d+', '', text)          # Remove numbers\n",
    "    text = re.sub(r'[^\\w\\s]', '', text) # Remove punctuation\n",
    "    text = text.strip()                 # Remove extra whitespaces\n",
    "    text = \" \".join(text.split())       \n",
    "    return text"
   ]
  },
  {
   "cell_type": "code",
   "execution_count": null,
   "metadata": {},
   "outputs": [],
   "source": []
  },
  {
   "cell_type": "code",
   "execution_count": 1,
   "metadata": {},
   "outputs": [],
   "source": [
    "N=10                                                                            # Number of items to be displayed\n",
    "\n",
    "model = SentenceTransformer('all-mpnet-base-v2')                                # Loading the Sentence Transformer Model\n",
    "\n",
    "dataset = pd.read_csv('ajio.csv')                                               # Loading the Datastore from the CSV file\n",
    "\n",
    "embeddings = model.encode(dataset[\"Title\"], convert_to_tensor=True)             # Getting the embeddings of the Search Query\n",
    "\n",
    "\n",
    "pd.DataFrame(embeddings.numpy()).to_csv('embeddings.csv', index=False)          # Saving the embeddings in a CSV file"
   ]
  }
 ],
 "metadata": {
  "kernelspec": {
   "display_name": "Python 3",
   "language": "python",
   "name": "python3"
  },
  "language_info": {
   "codemirror_mode": {
    "name": "ipython",
    "version": 3
   },
   "file_extension": ".py",
   "mimetype": "text/x-python",
   "name": "python",
   "nbconvert_exporter": "python",
   "pygments_lexer": "ipython3",
   "version": "3.10.2"
  },
  "orig_nbformat": 4
 },
 "nbformat": 4,
 "nbformat_minor": 2
}
