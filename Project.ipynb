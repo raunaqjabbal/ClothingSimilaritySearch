{
 "cells": [
  {
   "attachments": {},
   "cell_type": "markdown",
   "metadata": {},
   "source": [
    "# Project By Raunaq Singh Jabbal\n",
    "\n",
    "Project made considering time constraints, is easy to read and understand, with less LOC's and model has fast inference."
   ]
  },
  {
   "attachments": {},
   "cell_type": "markdown",
   "metadata": {},
   "source": [
    "# 0. Imports"
   ]
  },
  {
   "cell_type": "code",
   "execution_count": 10,
   "metadata": {},
   "outputs": [],
   "source": [
    "from bs4 import BeautifulSoup\n",
    "import selenium\n",
    "from selenium import webdriver         \n",
    "import time\n",
    "from tqdm import tqdm\n",
    "from sentence_transformers import SentenceTransformer, util\n",
    "import torch\n",
    "import numpy as np\n",
    "import pandas as pd\n",
    "import unidecode\n",
    "from word2number import w2n\n",
    "import contractions\n",
    "import regex as re\n"
   ]
  },
  {
   "attachments": {},
   "cell_type": "markdown",
   "metadata": {},
   "source": [
    "# 1. Web Scraping and PreProcessing"
   ]
  },
  {
   "attachments": {},
   "cell_type": "markdown",
   "metadata": {},
   "source": [
    "## A. Ajio Web Scraping\n",
    "\n",
    "Ajio used as it has an average sized collection (~53K), where I use only women's section, as those apparels have a lot of variety.\n",
    "\n",
    "Description of most products only has information like dimensions of the product, quantity of the product, etc, hence that information has not been scraped.\n",
    "\n",
    "Data has been scraped from the below categories:\n",
    "- Caps & Hats\n",
    "- Dresses\n",
    "- Gloves, Scarves & Bandanas\n",
    "- Jackets & Shrugs\n",
    "- Jeans & Leggings\n",
    "- Jumpsuits & Playsuits\n",
    "- Kurta Suit Sets\n",
    "- Kurtas & Kurtis\n",
    "- Leggings\n",
    "- Lehenga Choli Sets\n",
    "- Lounge Tops & Sweatshirts\n",
    "- Maternity Wear \n",
    "- Night & Lounge Sets\n",
    "- Pyjama & Lounge Sets\n",
    "- Salwars & Churidars\n",
    "- Sarees\n",
    "- Shapewear\n",
    "- Shirts\n",
    "- Shirts, Tops & Tunics\n",
    "- Shorts\n",
    "- Skirts & Ghagras\n",
    "- Sweaters & SweatShirts\n",
    "- Trackpants\n",
    "- trousers and Pants\n",
    "- Tshirts\n",
    "\n",
    "Total extracted data: ~6K samples"
   ]
  },
  {
   "cell_type": "code",
   "execution_count": 3,
   "metadata": {},
   "outputs": [
    {
     "name": "stderr",
     "output_type": "stream",
     "text": [
      "100%|██████████| 540/540 [14:45<00:00,  1.64s/it]\n"
     ]
    }
   ],
   "source": [
    "link = \"https://www.ajio.com/search/?query=%3Arelevance%3Agenderfilter%3AWomen%3Al1l3nestedcategory%3AWomen%20-%20Dresses%3Al1l3nestedcategory%3AWomen%20-%20Jackets%20%26%20Shrugs%3Al1l3nestedcategory%3AWomen%20-%20Jeans%20%26%20Jeggings%3Al1l3nestedcategory%3AWomen%20-%20Jumpsuits%20%26%20Playsuits%3Al1l3nestedcategory%3AWomen%20-%20Kurta%20Suit%20Sets%3Al1l3nestedcategory%3AWomen%20-%20Kurtas%20%26%20Kurtis%3Al1l3nestedcategory%3AWomen%20-%20Leggings%3Al1l3nestedcategory%3AWomen%20-%20Lehenga%20Choli%20Sets%3Al1l3nestedcategory%3AWomen%20-%20Lounge%20Tops%20%26%20Sweatshirts%3Al1l3nestedcategory%3AWomen%20-%20Maternity%20Wear%3Al1l3nestedcategory%3AWomen%20-%20Night%20%26%20Lounge%20Sets%3Al1l3nestedcategory%3AWomen%20-%20Pyjamas%20%26%20Lounge%20Shorts%3Al1l3nestedcategory%3AWomen%20-%20Salwars%20%26%20Churidars%3Al1l3nestedcategory%3AWomen%20-%20Sarees%3Al1l3nestedcategory%3AWomen%20-%20Shapewear%3Al1l3nestedcategory%3AWomen%20-%20Shirts%2C%20Tops%20%26%20Tunics%3Al1l3nestedcategory%3AWomen%20-%20Shirts%3Al1l3nestedcategory%3AWomen%20-%20Shorts%3Al1l3nestedcategory%3AWomen%20-%20Skirts%20%26%20Ghagras%3Al1l3nestedcategory%3AWomen%20-%20Sweaters%20%26%20Sweatshirts%3Al1l3nestedcategory%3AWomen%20-%20Track%20Pants%3Al1l3nestedcategory%3AWomen%20-%20Trousers%20%26%20Pants%3Al1l3nestedcategory%3AWomen%20-%20Tshirts%3Al1l3nestedcategory%3AWomen%20-%20Caps%20%26%20Hats%3Al1l3nestedcategory%3AWomen%20-%20Gloves%2C%20Scarves%20%26%20Bandanas&text=clothes&gridColumns=3&segmentIds=\"\n",
    "mainlink = \"https://www.ajio.com\"   # Main link for the website\n",
    "browser = webdriver.Edge()          # Using Edge browser for Selenium\n",
    "browser.get(link)                   # Open the link in browser\n",
    "\n",
    "for i in tqdm(range(0,540000,1000)):                            # Infinite Scroll to get all the products\n",
    "\tbrowser.execute_script(\"window.scrollTo(0,\" + str(i) + \")\") # Scroll down the page to get to the bottom\n",
    "\ttime.sleep(.3)"
   ]
  },
  {
   "cell_type": "code",
   "execution_count": 6,
   "metadata": {},
   "outputs": [
    {
     "name": "stderr",
     "output_type": "stream",
     "text": [
      "100%|██████████| 540/540 [14:47<00:00,  1.64s/it] \n"
     ]
    }
   ],
   "source": [
    "for i in tqdm(range(0,540000,1000)):                            # Infinite Scroll to get all the products\n",
    "\tbrowser.execute_script(\"window.scrollTo(0,document.body.scrollHeight)\") # Scroll down the page to get to the bottom\n",
    "\ttime.sleep(.3)"
   ]
  },
  {
   "attachments": {},
   "cell_type": "markdown",
   "metadata": {},
   "source": [
    "Title Scraping:\n",
    "\n",
    "<img src=\"title1.png\" height=400 width=600/>\n",
    "\n",
    "Link Scraping:\n",
    "\n",
    "<img src=\"link1.png\" height=400 width=600 />\n"
   ]
  },
  {
   "cell_type": "code",
   "execution_count": 13,
   "metadata": {},
   "outputs": [
    {
     "name": "stdout",
     "output_type": "stream",
     "text": [
      "6492\n",
      "6492\n"
     ]
    }
   ],
   "source": [
    "soup = BeautifulSoup(browser.page_source,'html.parser')             # Get the page source\n",
    "\n",
    "titles1=[]\n",
    "links1=[]\n",
    "\n",
    "for i in soup.find_all('div',class_='nameCls'):                     # Get the titles of the products\n",
    "    titles1.append(i.text)\n",
    "\n",
    "for i in soup.find_all('a',class_='rilrtl-products-list__link'):    # Get the links of the products\n",
    "    links1.append(mainlink+i.attrs['href'])\n",
    "    \n",
    "print(len(titles1))\n",
    "print(len(links1))\n",
    "\n",
    "\n",
    "titles1 = np.array(titles1).astype(\"<U241\")                                       # Convert to string                    \n",
    "links1 = np.array(links1).astype(\"<U241\")                                         # Convert to string"
   ]
  },
  {
   "cell_type": "code",
   "execution_count": 15,
   "metadata": {},
   "outputs": [],
   "source": [
    "browser.close()"
   ]
  },
  {
   "attachments": {},
   "cell_type": "markdown",
   "metadata": {},
   "source": [
    "## B. ShoppersStop Web Scraping\n",
    "\n",
    "Good site for extracting apparel information for men (~23K products)\n",
    "\n",
    "I will extract information about the top 3000 apparel with price range of 1001-2000 from the following categories:\n",
    "\n",
    "- Ethnic wear\n",
    "- Jeans\n",
    "- Shirts\n",
    "- Shorts\n",
    "- T-shirts & Polos\n",
    "- Trousers\n",
    "- Winter wear\n",
    "\n",
    "Total extracted data: 3K samples"
   ]
  },
  {
   "cell_type": "code",
   "execution_count": 18,
   "metadata": {},
   "outputs": [],
   "source": [
    "link2 = \"https://www.shoppersstop.com/search/?q=clothes%3Arelevance%3AinStockFlag%3Atrue%3AcategoryName%3AClothing%3Al3category%3AEthnicwear%3Al3category%3AJeans%3Al3category%3AWinterwear%3Aprice%3A1001-2000%3Al3category%3AShirts%3Al3category%3ATrousers%3Al3category%3AShorts%3Al3category%3AT-Shirts%2B%2526%2BPolos&text=clothes&startRange=&endRange=&brandPageId=&linkText=#\"\n",
    "mainlink2 = \"https://www.shoppersstop.com\"      # Main link for the website\n",
    "browser2 = webdriver.Edge()                     # Using Edge browser for Selenium\n",
    "browser2.get(link2)                             # Open the link in browser"
   ]
  },
  {
   "cell_type": "code",
   "execution_count": 19,
   "metadata": {},
   "outputs": [
    {
     "name": "stderr",
     "output_type": "stream",
     "text": [
      "100%|██████████| 15/15 [00:05<00:00,  2.81it/s]\n"
     ]
    }
   ],
   "source": [
    "\n",
    "for i in tqdm(range(0,15000,1000)):                            \t\t\t\t\t# Infinite Scroll to get all the products\n",
    "\tbrowser2.execute_script(\"window.scrollTo(0,document.body.scrollHeight)\") \t# Scroll down the page to get to the bottom\n",
    "\ttime.sleep(.3)"
   ]
  },
  {
   "attachments": {},
   "cell_type": "markdown",
   "metadata": {},
   "source": [
    "Title Scraping:\n",
    "\n",
    "<img src=\"title2.png\" height=400 width=600/>\n",
    "\n",
    "Link Scraping:\n",
    "\n",
    "<img src=\"link2.png\" height=400 width=600 />\n"
   ]
  },
  {
   "cell_type": "code",
   "execution_count": 79,
   "metadata": {},
   "outputs": [
    {
     "name": "stdout",
     "output_type": "stream",
     "text": [
      "3000\n",
      "3000\n"
     ]
    }
   ],
   "source": [
    "soup2 = BeautifulSoup(browser2.page_source,'html.parser')               # Get the page source\n",
    "\n",
    "titles2=[]\n",
    "links2=[]\n",
    "\n",
    "for i in soup2.find_all('li',itemtype='http://schema.org/Product'):     # Get the titles of the products\n",
    "    titles2.append(i.attrs['data-product-name'])\n",
    "\n",
    "for i in soup2.find_all('div',class_='styleImagesMain'):                # Get the links of the products\n",
    "    links2.append(mainlink2+i.findChild(\"a\").attrs['href'])\n",
    "\n",
    "print(len(titles2))\n",
    "print(len(links2))\n",
    "\n",
    "\n",
    "titles2 = np.array(titles2).astype(\"<U241\")                             # Convert to have same type as titles1\n",
    "links2 = np.array(links2).astype(\"<U241\")                               # Converted to have same type as links1"
   ]
  },
  {
   "cell_type": "code",
   "execution_count": 93,
   "metadata": {},
   "outputs": [],
   "source": [
    "browser2.close()"
   ]
  },
  {
   "attachments": {},
   "cell_type": "markdown",
   "metadata": {},
   "source": [
    "## C. Raymonds Web Scraping\n",
    "\n",
    "Another good site for men's fashion, using end of season sale products (~5.5K samples) and selecting the first 3K.\n",
    "\n",
    "### No href addrss available, yet to find out a way to extract website names, using javascript:void(0), after hovering and clicking, website  for the product opens, can't right click to open in a new tab."
   ]
  },
  {
   "cell_type": "code",
   "execution_count": 94,
   "metadata": {},
   "outputs": [
    {
     "name": "stderr",
     "output_type": "stream",
     "text": [
      "100%|██████████| 50/50 [00:16<00:00,  3.11it/s]\n"
     ]
    }
   ],
   "source": [
    "link3= \"https://www.myraymond.com/product-list?qid=646712a526fb0f1bbd7ba224&slug=End%20Of%20Reason%20Sale&categoryName=End%20Of%20Reason%20Sale&categoryType=collection\"\n",
    "mainlink3 = \"https://www.myraymond.com\"      # Main link for the website\n",
    "browser3 = webdriver.Edge()                     # Using Edge browser for Selenium\n",
    "browser3.get(link3)                             # Open the link in browser\n",
    "\n",
    "for i in tqdm(range(0,50000,1000)):                            \t\t\t\t\t# Infinite Scroll to get all the products\n",
    "\tbrowser3.execute_script(\"window.scrollTo(0,document.body.scrollHeight)\") \t# Scroll down the page to get to the bottom\n",
    "\ttime.sleep(.3)"
   ]
  },
  {
   "cell_type": "code",
   "execution_count": 109,
   "metadata": {},
   "outputs": [
    {
     "name": "stdout",
     "output_type": "stream",
     "text": [
      "['Men Slim Fit Light Blue T-Shirt', 'Men Slim Fit Light Blue Shirt', 'Men Slim Fit Light Fawn Shirt', 'Men Slim Fit Light Pink T-Shirt', 'Men Slim Fit Light Blue T-Shirt', 'Men Slim Fit Light Blue T-Shirt', 'Men Slim Fit Blue T-Shirt', 'Men Slim Fit Light Yellow Shirt', 'Men Slim Fit Red T-Shirt', 'Men Slim Fit Green T-Shirt', 'Men Slim Fit Blue T-Shirt', 'Men Slim Fit Pink T-Shirt', 'Men Slim Fit Green T-Shirt', 'Men Slim Fit Pink Shirt', 'Men Slim Fit Grey Shirt', 'Men Slim Fit Green Shirt', 'Men Slim Fit Light Grey T-Shirt', 'Men Slim Fit Black T-Shirt']\n",
      "18\n",
      "0\n"
     ]
    }
   ],
   "source": [
    "soup3 = BeautifulSoup(browser3.page_source,'html.parser')               # Get the page source\n",
    "\n",
    "titles3=[]\n",
    "links3=[]\n",
    "\n",
    "for i in soup3.find_all('div',class_=\"content-info-box\"):     # Get the titles of the products\n",
    "    titles3.append(i.children.__next__().text)\n",
    "\n",
    "for i in soup3.find_all('div',class_='styleImagesMain'):      # Get the links of the products\n",
    "    links3.append(mainlink3+i.findChild(\"a\").attrs['href'])\n",
    "\n",
    "titles3 = titles3[::2]                                        # Remove the \"ADD TO CART\" titles\n",
    "\n",
    "print(len(titles3))\n",
    "print(len(links3))\n",
    "\n",
    "titles3 = np.array(titles3).astype(\"<U241\")                   # Convert to have same type as titles1\n",
    "links3 = np.array(links3).astype(\"<U241\")                     # Converted to have same type as links1"
   ]
  },
  {
   "attachments": {},
   "cell_type": "markdown",
   "metadata": {},
   "source": [
    "## D. Creating Dataset and Preprocessing"
   ]
  },
  {
   "cell_type": "code",
   "execution_count": 92,
   "metadata": {},
   "outputs": [],
   "source": [
    "# Preprocessing Function\n",
    "def preprocess(text):\n",
    "    text = unidecode.unidecode(text)    # Remove accents\n",
    "    text = contractions.fix(text)       # Expand contractions\n",
    "    text = text.lower()                 # Convert to lowercase\n",
    "    # re.sub(r'\\d+', '', text)          # Remove numbers\n",
    "    text = re.sub(r'[^\\w\\s]', '', text) # Remove punctuation\n",
    "    text = text.strip()                 # Remove extra whitespaces\n",
    "    text = \" \".join(text.split())       \n",
    "    return text"
   ]
  },
  {
   "cell_type": "code",
   "execution_count": null,
   "metadata": {},
   "outputs": [],
   "source": [
    "dataset = pd.DataFrame({'Title':np.hstack((titles1,titles2)),'Link':np.hstack((links1,links2))}) # Create a dataframe\n",
    "dataset[\"Title\"] = dataset[\"Title\"].apply(preprocess)                                            # Preprocess the titles\n",
    "dataset.to_csv(\"dataset.csv\",index=False)                                                        # Save the dataset"
   ]
  },
  {
   "attachments": {},
   "cell_type": "markdown",
   "metadata": {},
   "source": [
    "## 2. Measure Similarity\n",
    "\n",
    "We need some form of sentence embedding so that we can figure out the most relevant samples from our dataset that match the description given by the user. We also need the most advanced and efficient algorithm to solve this problem.\n",
    "\n",
    "\n",
    "Talking about BERT, it solves semantic search in a pair wise fashion. The major downside with using BERT here is if we have input given by the user, the titles in our dataset have to be given everytime to the model to compute similarity which is  computationally intensive.\n",
    "\n",
    "Now, Siamese Networks contain 2 or more identical networks that share the same weight in parallel and are usually used to find out similarity. Siamese networks don't have to train with every possible combination unlike BERT.\n",
    "\n",
    "Sentence BERT is like the cross-encoder BERT, but it doesn't have the classification/similarity calculation head. It uses a Siamese architecture containing 2 BERT architectures.\n",
    "\n",
    "We provide 2 sentences, one to each BERT instance, output of which an embedding which is mean pooled. For training, the 2 embeddings are concatenated and passed through a softmax layer for classification. While testing, the cosine similarity of the 2 embeddings is the output.\n",
    "\n",
    "Sentence Transformers is a Python framework for state of the art sentence, text, and image embedddings based on PyTorch.\n",
    "\n",
    "- We used a pretained SBERT with the latest \"all-mpnet-base-v2\" model which outputs a 384 dimensional normalised embedding vector trained on 1 billion training pairs.\n",
    "\n",
    "- Save the embeddings of the corresponding titles in a csv files so that we don't have to keep recomputing those values.\n"
   ]
  },
  {
   "cell_type": "code",
   "execution_count": 111,
   "metadata": {},
   "outputs": [],
   "source": [
    "N=10                                                                            # Number of items to be displayed\n",
    "\n",
    "model = SentenceTransformer('all-mpnet-base-v2')                                # Loading the Sentence Transformer Model\n",
    "dataset = pd.read_csv('dataset.csv')                                            # Loading the Datastore from the CSV file\n",
    "embeddings = model.encode(dataset[\"Title\"], convert_to_tensor=True)             # Getting the embeddings of the Search Query\n",
    "pd.DataFrame(embeddings.numpy()).to_csv('embeddings.csv', index=False)          # Saving the embeddings in a CSV file"
   ]
  },
  {
   "attachments": {},
   "cell_type": "markdown",
   "metadata": {},
   "source": [
    "## 3. Function\n",
    "\n",
    "- Load the dataset including the titles and links and the vector embeddings \n",
    "- Preprocess input given by the user\n",
    "- Use the SBERT model to obtain it's embedding vector\n",
    "- Calculate cosine similarity of that vector with all the vectors in the embeddings\n",
    "- Return the N highest links \n",
    "\n",
    "In most cases, it takes less than 2 seconds.\n",
    "We can still improve on this time, by using simpler SBERT pretrained models and using techniquees like PCA as we don't need a 384 dimensional long embedding vector for this problem."
   ]
  },
  {
   "cell_type": "code",
   "execution_count": 122,
   "metadata": {},
   "outputs": [],
   "source": [
    "import time\n",
    "from sentence_transformers import SentenceTransformer, util\n",
    "import torch\n",
    "import numpy as np\n",
    "import pandas as pd\n",
    "import unidecode\n",
    "from word2number import w2n\n",
    "import contractions\n",
    "import regex as re\n",
    "import os \n",
    "\n",
    "N=10\n",
    "\n",
    "def preprocess(text):\n",
    "    text = unidecode.unidecode(text)    # Remove accents\n",
    "    text = contractions.fix(text)       # Expand contractions\n",
    "    text = text.lower()                 # Convert to lowercase\n",
    "    # re.sub(r'\\d+', '', text)          # Remove numbers\n",
    "    text = re.sub(r'[^\\w\\s]', '', text) # Remove punctuation\n",
    "    text = text.strip()                 # Remove extra whitespaces\n",
    "    text = \" \".join(text.split())       \n",
    "    return text\n",
    "\n",
    "model = SentenceTransformer('all-mpnet-base-v2')                                # Loading the Sentence Transformer Model\n",
    "\n",
    "def main(sample):\n",
    "    t= time.time()\n",
    "    ajio_embeddings = pd.read_csv('embeddings.csv').to_numpy()                      # Loading the embeddings from the CSV file\n",
    "    ajio_embeddings = torch.tensor(ajio_embeddings, dtype=torch.float32)            # Converting the embeddings to a tensor\n",
    "    ajio = pd.read_csv('dataset.csv')                                               # Loading the Datastore from the CSV file\n",
    "\n",
    "    sample = preprocess(sample)                                                     # Preprocessing the Search Query\n",
    "    sample_emb = model.encode(sample, convert_to_tensor=True)                       # Getting the embeddings of the Search Query\n",
    "\n",
    "    scores = np.array(util.cos_sim(sample_emb, ajio_embeddings).tolist()[0])        # Getting the cosine similarity scores of the Search Query with all the items\n",
    "    indexes = scores.argsort()[::-1][:N]                                            # Getting the indexes of the top N items\n",
    "    urls= np.array(ajio.iloc[indexes,1])                                            # Getting the links of the top N items\n",
    "    # print(np.array(list(zip(urls,scores[indexes]))))                                # Printing the links and the scores of the top N items  \n",
    "    print(\"Time Taken: \", time.time()-t)\n",
    "    return urls\n"
   ]
  },
  {
   "cell_type": "code",
   "execution_count": 124,
   "metadata": {},
   "outputs": [
    {
     "name": "stdout",
     "output_type": "stream",
     "text": [
      "[5517 3048 6274 3090 1650 1816 6410 4713 8462 8137]\n",
      "Time Taken:  1.1728038787841797\n"
     ]
    },
    {
     "data": {
      "text/plain": [
       "array(['https://www.ajio.com/indyes-embroidered-kurti/p/465701505_red',\n",
       "       'https://www.ajio.com/dream--dzire-embroidered-straight-kurta/p/463720441_white',\n",
       "       'https://www.ajio.com/agroha-embroidered-straight-kurta/p/461143785_blue',\n",
       "       'https://www.ajio.com/dream--dzire-embroidered-straight-kurta/p/463723366_green',\n",
       "       'https://www.ajio.com/fabric-fitoor-embroidered-straight-kurta/p/462283010_red',\n",
       "       'https://www.ajio.com/cloth-haus-india-embroidered-straight-kurta/p/464897923_blue',\n",
       "       'https://www.ajio.com/dream--dzire-embroidered-straight-kurta/p/463762953_pink',\n",
       "       'https://www.ajio.com/true-shape-indian-flared-kurta/p/464192276_yellow',\n",
       "       'https://www.shoppersstop.com/hangup-jacquard-jacquard-men-s-occasion-wear-kurta-set/p-A21HG87APARROTW/colorChange/A21HG87APARROTW_MULTI?currentPosition=1971&searchQueryUrl=&totalResultVal=6691&searchPageType=category',\n",
       "       'https://www.shoppersstop.com/hangup-jacquard-jacquard-mens-occasion-wear-kurta-set/p-A21HG81ABLACKSI/colorChange/A21HG81ABLACKSI_MULTI?currentPosition=1646&searchQueryUrl=&totalResultVal=6691&searchPageType=category'],\n",
       "      dtype=object)"
      ]
     },
     "execution_count": 124,
     "metadata": {},
     "output_type": "execute_result"
    }
   ],
   "source": [
    "main(\"occasion wear kurta\")"
   ]
  }
 ],
 "metadata": {
  "kernelspec": {
   "display_name": "Python 3",
   "language": "python",
   "name": "python3"
  },
  "language_info": {
   "codemirror_mode": {
    "name": "ipython",
    "version": 3
   },
   "file_extension": ".py",
   "mimetype": "text/x-python",
   "name": "python",
   "nbconvert_exporter": "python",
   "pygments_lexer": "ipython3",
   "version": "3.10.2"
  },
  "orig_nbformat": 4
 },
 "nbformat": 4,
 "nbformat_minor": 2
}
