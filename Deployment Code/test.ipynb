{
 "cells": [
  {
   "cell_type": "code",
   "execution_count": 5,
   "metadata": {},
   "outputs": [
    {
     "data": {
      "text/plain": [
       "array(['https://www.shoppersstop.com/infuse-solid-polyester-men-s-festive-wear-nehru-jacket/p-AW22INFMJK075/colorChange/AW22INFMJK075_SKY_BLUE?currentPosition=1600&searchQueryUrl=&totalResultVal=6691&searchPageType=category',\n",
       "       'https://www.shoppersstop.com/neudis-jacquard-silk-blend-regular-fit-men-s-nehru-jacket-kurta-pajama-set/p-N23MK12149GDCR/colorChange/N23MK12149GDCR_OFF-WHITE?currentPosition=972&searchQueryUrl=&totalResultVal=6691&searchPageType=category',\n",
       "       'https://www.shoppersstop.com/infuse-solid-polyester-men-s-festive-wear-nehru-jacket/p-AW22INFMJK079/colorChange/AW22INFMJK079_MAROON?currentPosition=2310&searchQueryUrl=&totalResultVal=6691&searchPageType=category',\n",
       "       'https://www.shoppersstop.com/hangup-embroidered-polyester-viscose-regular-fit-mens-kurta-pyjama-and-nehru-set/p-A223PC197KP1/colorChange/A223PC197KP1_MAROON?currentPosition=1484&searchQueryUrl=&totalResultVal=6691&searchPageType=category',\n",
       "       'https://www.shoppersstop.com/neudis-jacquard-silk-blend-regular-fit-men-s-nehru-jacket-kurta-pajama-set/p-N23MK12149GDBK/colorChange/N23MK12149GDBK_BLACK?currentPosition=2584&searchQueryUrl=&totalResultVal=6691&searchPageType=category',\n",
       "       'https://www.shoppersstop.com/neudis-jacquard-silk-blend-regular-fit-men-s-nehru-jacket-kurta-pajama-set/p-N23MK12153GDBK/colorChange/N23MK12153GDBK_BLACK?currentPosition=1956&searchQueryUrl=&totalResultVal=6691&searchPageType=category',\n",
       "       'https://www.shoppersstop.com/neudis-jacquard-silk-blend-regular-fit-men-s-nehru-jacket-kurta-pajama-set/p-N23MK12149GDOR/colorChange/N23MK12149GDOR_ORANGE?currentPosition=1613&searchQueryUrl=&totalResultVal=6691&searchPageType=category',\n",
       "       'https://www.shoppersstop.com/hangup-embroidered-polyester-viscose-regular-fit-mens-kurta-pyjama-and-nehru-set/p-A223PC202KP1/colorChange/A223PC202KP1_KHAKI?currentPosition=533&searchQueryUrl=&totalResultVal=6691&searchPageType=category',\n",
       "       'https://www.shoppersstop.com/hangup-embroidered-polyester-viscose-regular-fit-mens-kurta-pyjama-and-nehru-set/p-A223PC200KP1/colorChange/A223PC200KP1_BLACK?currentPosition=1871&searchQueryUrl=&totalResultVal=6691&searchPageType=category',\n",
       "       'https://www.shoppersstop.com/hangup-embroidered-polyester-viscose-regular-fit-mens-kurta-pyjama-and-nehru-set/p-A223PC189KP1/colorChange/A223PC189KP1_BLACK?currentPosition=2593&searchQueryUrl=&totalResultVal=6691&searchPageType=category'],\n",
       "      dtype='<U237')"
      ]
     },
     "execution_count": 5,
     "metadata": {},
     "output_type": "execute_result"
    }
   ],
   "source": [
    "import requests\n",
    "import numpy as np\n",
    "\n",
    "msg = \"Blue nehru jacket with white kurta and white pyjama\"\n",
    "\n",
    "resp = requests.post(\"https://getprediction-bhdhvw323q-el.a.run.app\", files={'message':msg})\n",
    "\n",
    "np.array(resp.json()['urls'])"
   ]
  }
 ],
 "metadata": {
  "kernelspec": {
   "display_name": "Python 3",
   "language": "python",
   "name": "python3"
  },
  "language_info": {
   "codemirror_mode": {
    "name": "ipython",
    "version": 3
   },
   "file_extension": ".py",
   "mimetype": "text/x-python",
   "name": "python",
   "nbconvert_exporter": "python",
   "pygments_lexer": "ipython3",
   "version": "3.10.2"
  },
  "orig_nbformat": 4
 },
 "nbformat": 4,
 "nbformat_minor": 2
}
